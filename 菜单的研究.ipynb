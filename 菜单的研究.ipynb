{
 "cells": [
  {
   "cell_type": "markdown",
   "metadata": {},
   "source": [
    "### 简述\n",
    "从windows1.0开始，计算机的图形用户界面就开始快速发展起来了，附加而来的许多标配元素也慢慢让几乎所有用户熟悉了，在许多人看来，一个图形界面带有菜单栏是再正常不过的一件事，那么，菜单栏究竟是什么东西呢？其实究其实际，它也并不会比一个普通的按钮有多高明的地方，只不过菜单栏往往是一组按钮，一般附加在窗体的正上方，而且其呈一行式排列，当用户点击其一时，它往往会呈抽屉式弹出一条菜单来，当然那只是诸多不同功能按钮的集合罢了。\n",
    "\n",
    "### 菜单在`PySimpleGUI`中的实现\n",
    "在`PySimpleGUI`中，菜单是与窗体的创建分离开的，要创建一个菜单十分容易，和创建窗体的语法十分相似，即先定义一个列表，然后调用`PySimpleGUI`的`Menu`函数将该列表填入即可，当创建窗体时，将该`Menu`语句创建的菜单放置于窗体的第一行，其余就和前面创建窗体的方法一样了。\n",
    "\n",
    "### 一个菜单的小例子\n",
    "下面展示了一个简单的创建菜单的小例子："
   ]
  },
  {
   "cell_type": "code",
   "execution_count": null,
   "metadata": {},
   "outputs": [],
   "source": [
    "import PySimpleGUI as sg      \n",
    "\n",
    "sg.ChangeLookAndFeel('LightGreen')      \n",
    "sg.SetOptions(element_padding=(0, 0))      \n",
    "\n",
    "# ------ Menu Definition ------ #      \n",
    "menu_def = [['File', ['Open', 'Save', 'Exit'  ]],      \n",
    "            ['Edit', ['Paste', ['Special', 'Normal', ], 'Undo'], ],      \n",
    "            ['Help', 'About...'], ]      \n",
    "\n",
    "# ------ GUI Defintion ------ #      \n",
    "layout = [      \n",
    "    [sg.Menu(menu_def, )],      \n",
    "    [sg.Output(size=(60, 20))]      \n",
    "            ]      \n",
    "\n",
    "window = sg.Window(\"Windows-like program\", default_element_size=(12, 1), auto_size_text=False, auto_size_buttons=False,      \n",
    "                    default_button_element_size=(12, 1)).Layout(layout)      \n",
    "\n",
    "# ------ Loop & Process button menu choices ------ #      \n",
    "while True:      \n",
    "    event, values = window.Read()      \n",
    "    if event == None or event == 'Exit':      \n",
    "        break      \n",
    "    print('Button = ', event)      \n",
    "    # ------ Process menu choices ------ #      \n",
    "    if event == 'About...':      \n",
    "        sg.Popup('About this program', 'Version 1.0', 'PySimpleGUI rocks...')      \n",
    "    elif event == 'Open':      \n",
    "        filename = sg.PopupGetFile('file to open', no_window=True)      \n",
    "        print(filename) \n",
    "\n",
    "window.Close()   "
   ]
  },
  {
   "cell_type": "markdown",
   "metadata": {},
   "source": [
    "其运行截图如下图所示：\n",
    "\n",
    "当用户点击其中的菜单按钮时，凡是有定义的菜单都会做出相应的反应。\n",
    "\n",
    "如果用户在创建菜单时，在`Menu`函数的参数中添加`tearoff=True`时，再次运行程序，点击菜单时会发现在每个弹出的菜单下有条虚线，如图所示：\n",
    "\n",
    "如果用户用鼠标双击这条虚线，该弹出的菜单将会自动独立飞出成为悬浮于主窗体的一个小窗体，相当酷。如下图所示：\n",
    "\n",
    "### 小结\n",
    "这篇教程简单介绍了菜单如何创建，有兴趣的读者仔细研究这段代码，自然会发现许多有趣的东西。"
   ]
  }
 ],
 "metadata": {
  "kernelspec": {
   "display_name": "Python 3",
   "language": "python",
   "name": "python3"
  },
  "language_info": {
   "codemirror_mode": {
    "name": "ipython",
    "version": 3
   },
   "file_extension": ".py",
   "mimetype": "text/x-python",
   "name": "python",
   "nbconvert_exporter": "python",
   "pygments_lexer": "ipython3",
   "version": "3.6.6"
  }
 },
 "nbformat": 4,
 "nbformat_minor": 2
}
