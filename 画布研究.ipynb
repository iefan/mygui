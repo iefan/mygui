{
 "cells": [
  {
   "cell_type": "markdown",
   "metadata": {},
   "source": [
    "### 简述\n",
    "绘图是图形用户界面的一种最常用功能之一，将复杂的几何图形、建筑设计图、天体运行轨迹等等展示在图形界面上，无疑会更便于观察，这次我们就来研究一下`PySimpleGUI`中有关绘图的部分，在这部分，该包是直接调用`Tkinter`中有关图形绘制函数的，所以如果直接将`PySimpleGUI`更换为不同类库`PySimpleGUIQt`时，程序会报错。\n",
    "\n",
    "当然，图形的绘制我们在另一个有关`pygame`的教程中会详细介绍更有效率移动图形的方法，在这一篇中，我们只是简单做一尝试即可。\n",
    "\n",
    "### 一个简单的示例\n",
    "对于一个细节的研究，最好的办法莫过于研究一段程序，下面的程序展示了如何利用`Canvas`函数来创建一个画布。"
   ]
  },
  {
   "cell_type": "code",
   "execution_count": 2,
   "metadata": {},
   "outputs": [],
   "source": [
    "import PySimpleGUI as sg\n",
    "layout = [      \n",
    "    [sg.Canvas(size=(100, 100), background_color='red', key= 'canvas')],      \n",
    "    [sg.T('改变圆的颜色:'), sg.Button('红色'), sg.Button('蓝色')]      \n",
    "    ]\n",
    "\n",
    "window = sg.Window('画布测试')      \n",
    "window.Layout(layout)      \n",
    "window.Finalize()\n",
    "\n",
    "canvas = window.FindElement('canvas')      \n",
    "cir = canvas.TKCanvas.create_oval(50, 50, 100, 100)\n",
    "\n",
    "while True:      \n",
    "    event, values = window.Read()      \n",
    "    if event is None:      \n",
    "        break      \n",
    "    if event == '蓝色':      \n",
    "        canvas.TKCanvas.itemconfig(cir, fill=\"Blue\")      \n",
    "    elif event == '红色':      \n",
    "        canvas.TKCanvas.itemconfig(cir, fill=\"Red\")\n",
    "window.Close()"
   ]
  },
  {
   "cell_type": "markdown",
   "metadata": {},
   "source": [
    "上段代码运行如下图所示：\n",
    "\n",
    "当用户点击设置不同颜色的按钮时，图中绘制的圆形会改变不同的颜色，比如用户点击`蓝色`按钮时，圆形填充蓝色：\n",
    "\n",
    "从以上代码可以看出一个画布如何创建，用`TKcanvas`如何进行图形绘制。\n",
    "\n",
    "### `Graph`的使用\n",
    "在图形绘制时，还可以使用另一个函数即`Graph`，这个函数本身就创建一个画布，在该画布上也可以绘制各种图形，下面这段代码演示了如何用该函数来创建图形，有兴趣的读者可以对两者进行比较。\n"
   ]
  },
  {
   "cell_type": "code",
   "execution_count": 4,
   "metadata": {},
   "outputs": [],
   "source": [
    "import PySimpleGUI as sg\n",
    "layout = [      \n",
    "            [sg.Graph(canvas_size=(400, 400), graph_bottom_left=(0,0), graph_top_right=(400, 400), background_color='red', key='graph')],      \n",
    "            [sg.T('改变颜色:'), sg.Button('红色'), sg.Button('蓝色'), sg.Button('移动')]      \n",
    "            ]      \n",
    "\n",
    "window = sg.Window('图形测试')      \n",
    "window.Layout(layout)      \n",
    "window.Finalize()      \n",
    "\n",
    "graph = window.FindElement('graph')      \n",
    "circle = graph.DrawCircle((75,75), 25, fill_color='black',line_color='white')      \n",
    "point = graph.DrawPoint((75,75), 10, color='green')      \n",
    "oval = graph.DrawOval((25,300), (100,280), fill_color='purple', line_color='purple'  )      \n",
    "rectangle = graph.DrawRectangle((25,300), (100,280), line_color='purple'  )      \n",
    "line = graph.DrawLine((0,0), (100,100))      \n",
    "\n",
    "while True:      \n",
    "    event, values = window.Read()      \n",
    "    if event is None:      \n",
    "        break      \n",
    "    if event is '蓝色':      \n",
    "        graph.TKCanvas.itemconfig(circle, fill = \"Blue\")      \n",
    "    elif event is '红色':      \n",
    "        graph.TKCanvas.itemconfig(circle, fill = \"Red\")      \n",
    "    elif event is '移动':      \n",
    "        graph.MoveFigure(point, 10,10)      \n",
    "        graph.MoveFigure(circle, 10,10)      \n",
    "        graph.MoveFigure(oval, 10,10)      \n",
    "        graph.MoveFigure(rectangle, 10,10)\n",
    "\n",
    "window.Close()"
   ]
  },
  {
   "cell_type": "markdown",
   "metadata": {},
   "source": [
    "程序运行图如下：\n",
    "\n",
    "当用户点击移动时，会发现我们创建的几个图形元素开始移动，但是细心的同学将会发现我们用`DrawPoint`创建的`点`图形不会移动，如果你来观察其命令行时，会发现有这个警告输出：\n",
    "\n",
    "仔细思考后，会察觉应该是该包本身的函数`Drawpoint`中应该有些问题。由于该包正在快速迭代开发中，其有些小问题是可以理解的。"
   ]
  }
 ],
 "metadata": {
  "kernelspec": {
   "display_name": "Python 3",
   "language": "python",
   "name": "python3"
  },
  "language_info": {
   "codemirror_mode": {
    "name": "ipython",
    "version": 3
   },
   "file_extension": ".py",
   "mimetype": "text/x-python",
   "name": "python",
   "nbconvert_exporter": "python",
   "pygments_lexer": "ipython3",
   "version": "3.6.6"
  }
 },
 "nbformat": 4,
 "nbformat_minor": 2
}
