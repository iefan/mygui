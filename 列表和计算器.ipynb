{
 "cells": [
  {
   "cell_type": "markdown",
   "metadata": {},
   "source": [
    "### 回顾\n",
    "在上一篇教程中，我们编写了一个简单的音乐播放器界面和一个脚本执行程序，展示了`PySimpleGUI`强大的功能，在这一篇中，我们继续来学习新的控件，并尝试用前面学习的内容编写一个简易计算器程序。\n",
    "\n",
    "### 列表的使用\n",
    "列表控件是我们日常用到的较多的一个控件，从表格制作到文件在文件夹中的排列，凡是需要排列的地方，我们总是第一个考虑是否需要一个列表控件来将所展示的数据进行有序化整理。下面这个小例子就展示了这个技术，为了和普通的文本区分开，将两者分别列于同一个窗体上，让读者可以自行对比。\n",
    "\n",
    "代码如下："
   ]
  },
  {
   "cell_type": "code",
   "execution_count": 4,
   "metadata": {},
   "outputs": [
    {
     "data": {
      "text/plain": [
       "'OK'"
      ]
     },
     "execution_count": 4,
     "metadata": {},
     "output_type": "execute_result"
    }
   ],
   "source": [
    "import PySimpleGUI as sg\n",
    "sg.ChangeLookAndFeel('BlueMono')\n",
    "\n",
    "col = [[sg.Text('行列 1', text_color='white', background_color='blue')],      \n",
    "       [sg.Text('行列 2', text_color='white', background_color='blue'), sg.Input('可输入文本框 1')],      \n",
    "       [sg.Text('行列 3', text_color='white', background_color='blue'), sg.Input('可输入文本框 2')]]      \n",
    "\n",
    "layout = [[sg.Listbox(values=('Listbox Item 1', 'Listbox Item 2', 'Listbox Item 3'), select_mode=sg.LISTBOX_SELECT_MODE_MULTIPLE, size=(20,3)), sg.Column(col, background_color='blue')],      \n",
    "          [sg.Input('别担心，这只是一个小测试。')],      \n",
    "          [sg.OK()]]      \n",
    "\n",
    "window = sg.Window('列表控件例子').Layout(layout)\n",
    "event, values = window.Read()  \n",
    "window.Close()\n",
    "\n",
    "sg.Popup(event, values, line_width=200)   "
   ]
  },
  {
   "cell_type": "markdown",
   "metadata": {},
   "source": [
    "其运行图如下所示，当用户点击列表控件中的某一项时，在界面关闭后，程序将弹出一个对话框来显示用户的点击选项，这种方式展示了如何获取列表值。\n",
    "\n",
    "### 一个简易计算器例子\n",
    "在学习了这么多例子之后，我们来完成一个简易计算器的例子，这个例子可以完成整数的加减乘除运算，具体代码如下：\n"
   ]
  },
  {
   "cell_type": "code",
   "execution_count": 5,
   "metadata": {},
   "outputs": [],
   "source": [
    "def jisuanqi():\n",
    "    layout = [[sg.Text(\"计算器\")], \n",
    "        [sg.InputText(do_not_clear=True, size=(19,3), key=\"_SHU1_\",font=('Helvetica', 20))],\n",
    "    ]\n",
    "    #将0~9及加减乘除排列成四行四列\n",
    "    lst0_9 = [1,2,3,\"+\",4,5,6,\"-\",7,8,9,\"×\",\"\",0,\"\",\"÷\"]\n",
    "    tmp_shuzifuhao_lst = []\n",
    "    for item in lst0_9:\n",
    "        tmp_shuzifuhao_lst.append(sg.Button(str(item),button_color=('black', 'orange'), size=(4,2),font=('Helvetica', 18)))\n",
    "        if len(tmp_shuzifuhao_lst) == 4:\n",
    "            layout.append(tmp_shuzifuhao_lst)\n",
    "            tmp_shuzifuhao_lst = []\n",
    "    \n",
    "    layout.append([sg.Button(\"计算\", button_color=('white', 'springgreen4'), font=('黑体', 16), size=(7,2)), \n",
    "        sg.Button(\"清空\",button_color=('white', 'springgreen4'), font=('黑体', 16),size=(7,2)), \n",
    "        sg.Button(\"退出\",button_color=('white', 'springgreen4'), font=('黑体', 16),size=(7,2))])\n",
    "\n",
    "    window = sg.Window(\"计算器\").Layout(layout)\n",
    "\n",
    "    while True:\n",
    "        button, values = window.Read()\n",
    "        if button is None or button==\"退出\":\n",
    "            break\n",
    "        elif button==\"清空\":\n",
    "            window.FindElement(\"_SHU1_\").Update(\"\")\n",
    "        elif button==\"计算\":\n",
    "            shu1 = values[\"_SHU1_\"]\n",
    "            res_str = shu1.replace(\"×\", \"*\")\n",
    "            res_str = res_str.replace(\"÷\", \"/\")\n",
    "            try:\n",
    "                result = eval(res_str)\n",
    "                shu1 += \"=\" \n",
    "                shu1 += str(result)\n",
    "                window.FindElement(\"_SHU1_\").Update(shu1)\n",
    "            except:\n",
    "                window.FindElement(\"_SHU1_\").Update(\"表达式有误，请查证！\")\n",
    "        else:\n",
    "            shu1 = values[\"_SHU1_\"]\n",
    "            if shu1 == \"\" and (button not in [\"+\",\"-\",\"×\",\"÷\"]):\n",
    "                shu1 = button\n",
    "            elif shu1 == \"\" and (button in [\"+\",\"-\",\"×\",\"÷\"]):\n",
    "                pass\n",
    "            else:                \n",
    "                if shu1[-1] in [\"+\",\"-\",\"×\",\"÷\"] and (button in [\"+\",\"-\",\"×\",\"÷\"]):\n",
    "                    pass\n",
    "                else:\n",
    "                    shu1 += button\n",
    "            window.FindElement(\"_SHU1_\").Update(str(shu1))\n",
    "    window.Close()\n",
    "\n",
    "jisuanqi()\n"
   ]
  },
  {
   "cell_type": "markdown",
   "metadata": {},
   "source": [
    "这段代码运行结果如图所示，用户可以点击其中的数字及运算符号进行运算，代码并没有优化，有兴趣的读者可以仔细研究，在这段代码中用到了控件的更新、控件的排列、控件背景的设置等等。\n",
    "\n",
    "### 小结\n",
    "到现在为止，界面设计中的一些控件已经介绍了一部分，如果有兴趣，可以到其官方网站查阅相应的文档，下一章节，我们来研究一下菜单的设计。"
   ]
  }
 ],
 "metadata": {
  "kernelspec": {
   "display_name": "Python 3",
   "language": "python",
   "name": "python3"
  },
  "language_info": {
   "codemirror_mode": {
    "name": "ipython",
    "version": 3
   },
   "file_extension": ".py",
   "mimetype": "text/x-python",
   "name": "python",
   "nbconvert_exporter": "python",
   "pygments_lexer": "ipython3",
   "version": "3.6.6"
  }
 },
 "nbformat": 4,
 "nbformat_minor": 2
}
